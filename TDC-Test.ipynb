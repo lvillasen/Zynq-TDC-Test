{
 "cells": [
  {
   "cell_type": "markdown",
   "id": "19c09aab",
   "metadata": {},
   "source": [
    "## Generate Start and Stop pulses"
   ]
  },
  {
   "cell_type": "code",
   "execution_count": null,
   "id": "0ddee060",
   "metadata": {},
   "outputs": [],
   "source": [
    "from periphery import MMIO\n",
    "N_cycles = 10 # Time in CLK cycles between start and stop pulses\n",
    "regset = MMIO(0x41200000, 0xc) # Base address of AXI_GPIO_0\n",
    "regset.write32(0,N_cycles*2) # Write N_cycles inverting CLK bits 1-8\n",
    "regset.write32(0,1) # Start generation of start and stop pulses bit 0\n",
    "regset.close()\n"
   ]
  },
  {
   "cell_type": "markdown",
   "id": "4339b17b",
   "metadata": {},
   "source": [
    "## Read T coarse in CLK cycles"
   ]
  },
  {
   "cell_type": "code",
   "execution_count": null,
   "id": "9c9412d1",
   "metadata": {},
   "outputs": [],
   "source": [
    "regset = MMIO(0x41200000, 0xc) # Base address of AXI_GPIO_0\n",
    "T_coarse = regset.read32(8)    # Displaced by 8 to read GPIO2\n",
    "regset.close()\n",
    "print (\"T_coarse = \", T_coarse)"
   ]
  },
  {
   "cell_type": "markdown",
   "id": "3ac39c39",
   "metadata": {},
   "source": [
    "## Read T fine1 and T fine2 in delta_delay units\n",
    "### These delta_delays will be measurement during the calibration procedure"
   ]
  },
  {
   "cell_type": "code",
   "execution_count": null,
   "id": "e2b47eae",
   "metadata": {},
   "outputs": [],
   "source": [
    "regset = MMIO(0x41210000, 0xc) # Base address of AXI_GPIO_1\n",
    "T_fine1 = regset.read32(0)     # Displaced by 0 to read GPIO1\n",
    "T_fine2 = regset.read32(8)     # Displaced by 8 to read GPIO2\n",
    "regset.close()\n",
    "print (\"T_fine1 = \", T_fine1)\n",
    "print (\"T_fine2 = \", T_fine2)"
   ]
  }
 ],
 "metadata": {
  "kernelspec": {
   "display_name": "Python 3 (ipykernel)",
   "language": "python",
   "name": "python3"
  }
 },
 "nbformat": 4,
 "nbformat_minor": 5
}
